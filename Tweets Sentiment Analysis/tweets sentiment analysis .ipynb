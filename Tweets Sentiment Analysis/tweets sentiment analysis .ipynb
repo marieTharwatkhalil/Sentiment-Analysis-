{
 "cells": [
  {
   "cell_type": "markdown",
   "metadata": {},
   "source": [
    "# this application searches and analyzes the sentiment and polarity of specific words on twitter"
   ]
  },
  {
   "cell_type": "code",
   "execution_count": 1,
   "metadata": {},
   "outputs": [],
   "source": [
    "from textblob import TextBlob\n",
    "import sys,tweepy\n",
    "import matplotlib.pyplot as plt"
   ]
  },
  {
   "cell_type": "markdown",
   "metadata": {},
   "source": [
    "# setting API and Token keys "
   ]
  },
  {
   "cell_type": "code",
   "execution_count": 2,
   "metadata": {},
   "outputs": [],
   "source": [
    "consumer_key=\"ChqbXNsxe4cSOJ6g8aMpEPaOB\"\n",
    "consumer_key_secret=\"rOCOuYmiiktMMy9Xtfk3uGSuw0VQdNMPLksfjGedlmwdGPYlP5\"\n",
    "access_token=\"1151815744096821248-Z4UjrRrJp9DGauGerItOkJZa7eSdpD\"\n",
    "access_token_secret=\"OSZqT7iIx0ZhY1W6HVjOAfnGOdSoW6McfEpcVr9jtb4O4\""
   ]
  },
  {
   "cell_type": "markdown",
   "metadata": {},
   "source": [
    "# API authentication"
   ]
  },
  {
   "cell_type": "code",
   "execution_count": 3,
   "metadata": {},
   "outputs": [],
   "source": [
    "authentication= tweepy.OAuthHandler(consumer_key=consumer_key,consumer_secret=consumer_key_secret)\n",
    "authentication.set_access_token(access_token,access_token_secret)"
   ]
  },
  {
   "cell_type": "code",
   "execution_count": 4,
   "metadata": {},
   "outputs": [],
   "source": [
    "api=tweepy.API(authentication)"
   ]
  },
  {
   "cell_type": "markdown",
   "metadata": {},
   "source": [
    "# Asking the user to enter a word or many words to search for "
   ]
  },
  {
   "cell_type": "code",
   "execution_count": 616,
   "metadata": {},
   "outputs": [
    {
     "name": "stdout",
     "output_type": "stream",
     "text": [
      "You want me to search in twitter for: war\n"
     ]
    }
   ],
   "source": [
    "search_term=input(\"You want me to search in twitter for: \")"
   ]
  },
  {
   "cell_type": "markdown",
   "metadata": {},
   "source": [
    "# Asking the user to enter the number of tweets to search for "
   ]
  },
  {
   "cell_type": "code",
   "execution_count": 617,
   "metadata": {},
   "outputs": [
    {
     "name": "stdout",
     "output_type": "stream",
     "text": [
      "How many tweets you want?10000\n"
     ]
    }
   ],
   "source": [
    "n_search_terms=int(input(\"How many tweets you want?\"))"
   ]
  },
  {
   "cell_type": "markdown",
   "metadata": {},
   "source": [
    "# searching in twitter for the given word"
   ]
  },
  {
   "cell_type": "code",
   "execution_count": 618,
   "metadata": {},
   "outputs": [],
   "source": [
    "tweets=tweepy.Cursor(api.search,q=search_term,lang=\"English\").items(n_search_terms)"
   ]
  },
  {
   "cell_type": "markdown",
   "metadata": {},
   "source": [
    "# declaring the needed variables "
   ]
  },
  {
   "cell_type": "code",
   "execution_count": 619,
   "metadata": {},
   "outputs": [],
   "source": [
    "positive=0\n",
    "negative=0\n",
    "neutral=0\n",
    "polarity=0\n",
    "#type(tweets)"
   ]
  },
  {
   "cell_type": "markdown",
   "metadata": {},
   "source": [
    "# finding the polarity of each tweet and assigning it to the appropriate variable "
   ]
  },
  {
   "cell_type": "code",
   "execution_count": 620,
   "metadata": {},
   "outputs": [
    {
     "name": "stdout",
     "output_type": "stream",
     "text": [
      "RT @OGR_EN: Recent studies argue that Americans are relatively insensitive to the laws of war. There’s only one problem: that conclusion is…\n",
      "Recent studies argue that Americans are relatively insensitive to the laws of war. There’s only one problem: that c… https://t.co/lnea82vwHC\n"
     ]
    },
    {
     "data": {
      "text/plain": [
       "0"
      ]
     },
     "execution_count": 620,
     "metadata": {},
     "output_type": "execute_result"
    }
   ],
   "source": [
    "for tweet in tweets:\n",
    "    print(tweet.text)\n",
    "    analysis=TextBlob(tweet.text)\n",
    "    polarity+=analysis.sentiment.polarity\n",
    "    \n",
    "    if analysis.sentiment.polarity==0:\n",
    "        neutral+=1\n",
    "    elif analysis.sentiment.polarity>=0:\n",
    "        positive+=1\n",
    "    elif analysis.sentiment.polarity<=0:\n",
    "        negative+=1\n",
    "try:        \n",
    "    if positive !=0 and negative!=0 and neutral!=0:\n",
    "        print(\"searching\")\n",
    "except:        \n",
    "    raise ValueError(\"I can not find the word you want, please try another one :) \")\n",
    "negative    "
   ]
  },
  {
   "cell_type": "markdown",
   "metadata": {},
   "source": [
    "# a Function to calculate the percentage of the given polarity "
   ]
  },
  {
   "cell_type": "code",
   "execution_count": 621,
   "metadata": {},
   "outputs": [],
   "source": [
    "def percentage(part):\n",
    "    \"\"\" calculate the percentage of the given parameter (part)\"\"\"\n",
    "    try:\n",
    "        return (part/(positive+negative+neutral))*100\n",
    "    except:\n",
    "        print(\"I cant find the word you entered please try anaother one\")"
   ]
  },
  {
   "cell_type": "markdown",
   "metadata": {},
   "source": [
    "# getting the percentage of each polarity "
   ]
  },
  {
   "cell_type": "code",
   "execution_count": 622,
   "metadata": {},
   "outputs": [],
   "source": [
    "positive= percentage(positive)\n",
    "negative= percentage(negative)\n",
    "neutral= percentage(neutral)\n"
   ]
  },
  {
   "cell_type": "markdown",
   "metadata": {},
   "source": [
    "# deciding the sentiment of all retrieved tweets "
   ]
  },
  {
   "cell_type": "code",
   "execution_count": 623,
   "metadata": {},
   "outputs": [
    {
     "data": {
      "text/plain": [
       "'Neutral'"
      ]
     },
     "execution_count": 623,
     "metadata": {},
     "output_type": "execute_result"
    }
   ],
   "source": [
    "if polarity>0:\n",
    "    sentiment=\"Positive\"\n",
    "if polarity<0:\n",
    "    sentiment=\"Negative\"\n",
    "if polarity==0:\n",
    "    sentiment=\"Neutral\"\n",
    "sentiment    "
   ]
  },
  {
   "cell_type": "markdown",
   "metadata": {},
   "source": [
    "# offering a glimpse of how the people react to the given word "
   ]
  },
  {
   "cell_type": "code",
   "execution_count": 624,
   "metadata": {},
   "outputs": [
    {
     "name": "stdout",
     "output_type": "stream",
     "text": [
      "Peolpe`s reaction to 'war' is 'Neutral' according to the analysis of 10000 tweets\n"
     ]
    }
   ],
   "source": [
    "print(\"Peolpe`s reaction to \"+\"'\"+search_term+\"'\"+\" is \"+\"'\"+sentiment+\"'\"+\" according to the analysis of \"+str(n_search_terms)+\" tweets\" )"
   ]
  },
  {
   "cell_type": "markdown",
   "metadata": {},
   "source": [
    "# a Pie chart represents the percentage of each polarity"
   ]
  },
  {
   "cell_type": "code",
   "execution_count": 625,
   "metadata": {},
   "outputs": [],
   "source": [
    "labels=[\"Positive [\"+str(positive)+\"%]\",\"Negative [\"+str(negative)+\"%]\",\"Neutral [\"+str(neutral)+\"%]\"]\n",
    "sizes=[positive,negative,neutral]\n",
    "color=[\"yellowgreen\",\"red\",\"gold\"]"
   ]
  },
  {
   "cell_type": "code",
   "execution_count": 626,
   "metadata": {},
   "outputs": [
    {
     "data": {
      "image/png": "[encoded data removed]",
      "text/plain": [
       "<Figure size 432x288 with 1 Axes>"
      ]
     },
     "metadata": {},
     "output_type": "display_data"
    }
   ],
   "source": [
    "try:\n",
    "    patches,text=plt.pie(sizes,colors=color,startangle=90)\n",
    "    plt.legend(patches,labels,loc=\"best\")\n",
    "except:\n",
    "    print(\"I cant find the word you entered please try anaother one\")"
   ]
  },
  {
   "cell_type": "code",
   "execution_count": null,
   "metadata": {},
   "outputs": [],
   "source": []
  },
  {
   "cell_type": "code",
   "execution_count": null,
   "metadata": {},
   "outputs": [],
   "source": []
  }
 ],
 "metadata": {
  "kernelspec": {
   "display_name": "Python 3",
   "language": "python",
   "name": "python3"
  },
  "language_info": {
   "codemirror_mode": {
    "name": "ipython",
    "version": 3
   },
   "file_extension": ".py",
   "mimetype": "text/x-python",
   "name": "python",
   "nbconvert_exporter": "python",
   "pygments_lexer": "ipython3",
   "version": "3.7.1"
  }
 },
 "nbformat": 4,
 "nbformat_minor": 2
}
