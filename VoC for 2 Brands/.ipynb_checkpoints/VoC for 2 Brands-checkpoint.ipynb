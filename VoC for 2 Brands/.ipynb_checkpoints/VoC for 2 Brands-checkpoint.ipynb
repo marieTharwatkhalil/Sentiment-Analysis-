{
 "cells": [
  {
   "cell_type": "markdown",
   "metadata": {},
   "source": [
    "# this application searches on twitter for two brands then analyzes the sentiment and polarity of their customers` tweets. "
   ]
  },
  {
   "cell_type": "code",
   "execution_count": 92,
   "metadata": {},
   "outputs": [],
   "source": [
    "from textblob import TextBlob\n",
    "import sys,tweepy\n",
    "import matplotlib.pyplot as plt\n",
    "import seaborn as sns \n",
    "import pandas as pd"
   ]
  },
  {
   "cell_type": "code",
   "execution_count": null,
   "metadata": {},
   "outputs": [],
   "source": [
    "#setting API and Token keys "
   ]
  },
  {
   "cell_type": "code",
   "execution_count": 93,
   "metadata": {},
   "outputs": [],
   "source": [
    "consumer_key=\"ChqbXNsxe4cSOJ6g8aMpEPaOB\"\n",
    "consumer_key_secret=\"rOCOuYmiiktMMy9Xtfk3uGSuw0VQdNMPLksfjGedlmwdGPYlP5\"\n",
    "access_token=\"1151815744096821248-Z4UjrRrJp9DGauGerItOkJZa7eSdpD\"\n",
    "access_token_secret=\"OSZqT7iIx0ZhY1W6HVjOAfnGOdSoW6McfEpcVr9jtb4O4\""
   ]
  },
  {
   "cell_type": "code",
   "execution_count": null,
   "metadata": {},
   "outputs": [],
   "source": [
    "#API authentication"
   ]
  },
  {
   "cell_type": "code",
   "execution_count": 94,
   "metadata": {},
   "outputs": [],
   "source": [
    "authentication= tweepy.OAuthHandler(consumer_key=consumer_key,consumer_secret=consumer_key_secret)\n",
    "authentication.set_access_token(access_token,access_token_secret)"
   ]
  },
  {
   "cell_type": "code",
   "execution_count": 95,
   "metadata": {},
   "outputs": [],
   "source": [
    "api=tweepy.API(authentication)"
   ]
  },
  {
   "cell_type": "code",
   "execution_count": null,
   "metadata": {},
   "outputs": [],
   "source": [
    "#polarity_meter(tweets) \n",
    "#this function takes the retrieved tweets\n",
    "#counting the number of positive,negative,neutral, tweets and the total polarity \n",
    "#return values of positive,negative,neutral,polarity as numbers "
   ]
  },
  {
   "cell_type": "code",
   "execution_count": 96,
   "metadata": {},
   "outputs": [],
   "source": [
    "def polarity_meter(tweets):\n",
    "    \"\"\"this function takes the retrieved tweets then return the sentiment positive,negative and neutral and the polarity of all tweets as numbers \"\"\"\n",
    "    positive=0\n",
    "    negative=0\n",
    "    neutral=0\n",
    "    polarity=0\n",
    "#type(tweets)\n",
    "    for tweet in tweets:\n",
    "\n",
    "        analysis=TextBlob(tweet.text)\n",
    "        polarity+=analysis.sentiment.polarity\n",
    "        if analysis.sentiment.polarity==0:\n",
    "            neutral+=1\n",
    "        elif analysis.sentiment.polarity>=0:\n",
    "            positive+=1\n",
    "        elif analysis.sentiment.polarity<=0:\n",
    "            negative+=1\n",
    "            try:    \n",
    "                if positive !=0 and negative!=0 and neutral!=0:\n",
    "                    #search=search+=\n",
    "                    #print(\"searching\")\n",
    "                    search=1\n",
    "            except:        \n",
    "                raise ValueError(\"I can not find the word you want, please try another one :) \")\n",
    "    return positive,negative,neutral,polarity"
   ]
  },
  {
   "cell_type": "code",
   "execution_count": null,
   "metadata": {},
   "outputs": [],
   "source": [
    "#polarity_meter_brands(brand)\n",
    "#this function takes the DataFrame from the brand.csv file.\n",
    "\n",
    "#counting the number of positive,negative,neutral, tweets and the total polarity\n",
    "\n",
    "#return values of positive,negative,neutral,polarity as numbers"
   ]
  },
  {
   "cell_type": "code",
   "execution_count": 102,
   "metadata": {},
   "outputs": [],
   "source": [
    "def polarity_meter_brands(brand):\n",
    "    \"\"\"this function takes tweets then return the sentiment positive,negative and neutral and the polarity of all tweets as numbers \"\"\"\n",
    "    positive=0\n",
    "    negative=0\n",
    "    neutral=0\n",
    "    polarity=0\n",
    "#type(tweets)\n",
    "    for tweet in brand.values:\n",
    "\n",
    "        analysis=TextBlob(str(tweet))\n",
    "        polarity+=analysis.sentiment.polarity\n",
    "        if analysis.sentiment.polarity==0:\n",
    "            neutral+=1\n",
    "        elif analysis.sentiment.polarity>=0:\n",
    "            positive+=1\n",
    "        elif analysis.sentiment.polarity<=0:\n",
    "            negative+=1\n",
    "            try:    \n",
    "                if positive !=0 and negative!=0 and neutral!=0:\n",
    "                    #search=search+=\n",
    "                    #print(\"searching\")\n",
    "                    search=1\n",
    "            except:        \n",
    "                raise ValueError(\"I can not find the word you want, please try another one :) \")\n",
    "    return positive,negative,neutral,polarity"
   ]
  },
  {
   "cell_type": "code",
   "execution_count": null,
   "metadata": {},
   "outputs": [],
   "source": [
    "# percentage(part,total)\n",
    "#getting the percentage of each polarity \n",
    "#this function takes two arguments part and totoal, \n",
    "#part= one of the three variables: positive, negatve or neutral/ total=sum of all the three variables \n",
    "#then calculates the percentage of part \n",
    "#returns the percentage of the part  "
   ]
  },
  {
   "cell_type": "code",
   "execution_count": 97,
   "metadata": {},
   "outputs": [],
   "source": [
    "def percentage(part,total):\n",
    "    \"\"\" calculate the percentage of the given parameter (part)\"\"\"\n",
    "    try:\n",
    "        return (part/total)*100\n",
    "    except:\n",
    "        print(\"I cant find the word you entered please try anaother one\")"
   ]
  },
  {
   "cell_type": "code",
   "execution_count": null,
   "metadata": {},
   "outputs": [],
   "source": [
    "# sentiment_tweets(polarity_)\n",
    "#takes  polarity as a number \n",
    "#decides if the polarity is positive, negative or neutral\n",
    "#returns sentiment as a string positive, negative or neutral"
   ]
  },
  {
   "cell_type": "code",
   "execution_count": 142,
   "metadata": {},
   "outputs": [],
   "source": [
    "def sentiment_tweets(polarity_):\n",
    "    \"\"\"this function takes polarity as a number and return the sentiment of all tweets Positive, Negative, or Neutral \"\"\"\n",
    "    float(polarity_)\n",
    "    try:\n",
    "        if polarity_>0:\n",
    "            sentiment_=\"Positive\"\n",
    "        if polarity_<0:\n",
    "            sentiment_=\"Negative\"\n",
    "        if polarity_==0:\n",
    "            sentiment_=\"Neutral\"\n",
    "        \n",
    "        return str(sentiment_)\n",
    "    except:\n",
    "        print(\"error\")"
   ]
  },
  {
   "cell_type": "code",
   "execution_count": null,
   "metadata": {},
   "outputs": [],
   "source": [
    "# formating text "
   ]
  },
  {
   "cell_type": "code",
   "execution_count": 223,
   "metadata": {},
   "outputs": [],
   "source": [
    "plt.rcParams['font.sans-serif'] = 'Arial'\n",
    "plt.rcParams['font.family'] = 'sans-serif'\n",
    "plt.rcParams['text.color'] = '#909090'\n",
    "plt.rcParams['axes.labelcolor']= '#909090'\n",
    "plt.rcParams['xtick.color'] = '#909090'\n",
    "plt.rcParams['ytick.color'] = '#909090'\n",
    "plt.rcParams['font.size']=13"
   ]
  },
  {
   "cell_type": "code",
   "execution_count": null,
   "metadata": {},
   "outputs": [],
   "source": [
    "# Pie_chart(positive,negative,neutral,search_term)\n",
    "#this function plots a pie chart that represents the percentage of each polarity\n",
    "#takes positive,negative,neutral, as numbers and the search_term (Brand name) \n",
    "#returns a pie chart and legend contaions the color,label and percentage of each slice "
   ]
  },
  {
   "cell_type": "code",
   "execution_count": 224,
   "metadata": {},
   "outputs": [],
   "source": [
    "def Pie_chart(positive,negative,neutral,search_term):\n",
    "    \"\"\" a funcation that takes positive,negative,neutral values to plot a pie chart \"\"\"\n",
    "    \n",
    "    labels=[\"Positive [\"+str(round(positive,2))+\"%]\",\"Negative [\"+str(round(negative,2))+\"%]\",\"Neutral [\"+str(round(neutral,2))+\"%]\"]\n",
    "    sizes=[positive,negative,neutral]\n",
    "    color=[\"yellowgreen\",\"red\",\"gold\"]\n",
    "    \n",
    "    try:\n",
    "        patches,text=plt.pie(sizes,[.1,0,0],colors=color,startangle=90,pctdistance=.6,labeldistance=.5,)\n",
    "        plt.legend(patches,labels,loc=\"best\", bbox_to_anchor=(1.5,0.8))\n",
    "        plt.title(search_term)\n",
    "    except:\n",
    "        print(\"I cant find the word you entered please try anaother one\")"
   ]
  },
  {
   "cell_type": "code",
   "execution_count": null,
   "metadata": {},
   "outputs": [],
   "source": [
    "# Pie_chart2(positive,negative,neutral,search_term)\n",
    "#this function plots a pie chart that represents the percentage of each polarity\n",
    "\n",
    "#takes positive,negative,neutral, as numbers and the search_term (Brand name)\n",
    "\n",
    "#returns a pie chart contains the percentage of each slice and legend contaions the color and label"
   ]
  },
  {
   "cell_type": "code",
   "execution_count": 268,
   "metadata": {},
   "outputs": [],
   "source": [
    "def Pie_chart2(positive,negative,neutral,search_term):\n",
    "    \"\"\" a funcation that takes positive,negative,neutral values to plot a pie chart \"\"\"\n",
    "    \n",
    "    labels=[\"Positive\",\"Negative \",\"Neutral\"]\n",
    "    sizes=[positive,negative,neutral]\n",
    "    color=[\"yellowgreen\",\"red\",\"gold\"]\n",
    "    \n",
    "    fig, ax = plt.subplots()\n",
    "    ax.set_title(search_term)\n",
    "    ax.pie(sizes,[.2,0,0],colors=color,autopct='%1.0f%%',\n",
    "    startangle=90, pctdistance=.8)\n",
    "    ax.axis('scaled')\n",
    "    ax.legend(labels,frameon=True, bbox_to_anchor=(1,0.8))\n",
    "    "
   ]
  },
  {
   "cell_type": "code",
   "execution_count": null,
   "metadata": {},
   "outputs": [],
   "source": [
    "# tweets_to_list(tweets)\n",
    "#this function converts tweets into a list of tweets\n",
    "#takes an arguments tweets(the retrieved tweets)\n",
    "#convert the tweets into list of tweets\n",
    "#return brand_list(list of tweets)"
   ]
  },
  {
   "cell_type": "code",
   "execution_count": 269,
   "metadata": {},
   "outputs": [],
   "source": [
    "def tweets_to_list(tweets):\n",
    "    \"\"\"this function takes tweets and convert it to a list of tweets\"\"\"\n",
    "    brand_list=[]\n",
    "    for tweet in tweets:\n",
    "        brand_list.append(tweet.text)\n",
    "        \n",
    "    return brand_list   "
   ]
  },
  {
   "cell_type": "code",
   "execution_count": null,
   "metadata": {},
   "outputs": [],
   "source": [
    "# Asking the user to enter the name of  the two Brands"
   ]
  },
  {
   "cell_type": "code",
   "execution_count": 271,
   "metadata": {},
   "outputs": [
    {
     "name": "stdout",
     "output_type": "stream",
     "text": [
      "which two Brands you need to compare? \n"
     ]
    }
   ],
   "source": [
    "print(\"which two Brands you need to compare? \")"
   ]
  },
  {
   "cell_type": "code",
   "execution_count": 104,
   "metadata": {},
   "outputs": [
    {
     "name": "stdout",
     "output_type": "stream",
     "text": [
      "Brand 1Mcdonalds\n"
     ]
    }
   ],
   "source": [
    "search_term=input(\"Brand 1\")"
   ]
  },
  {
   "cell_type": "code",
   "execution_count": 105,
   "metadata": {},
   "outputs": [
    {
     "name": "stdout",
     "output_type": "stream",
     "text": [
      "Brand 2Burger King\n"
     ]
    }
   ],
   "source": [
    "search_term2=input(\"Brand 2\")"
   ]
  },
  {
   "cell_type": "code",
   "execution_count": null,
   "metadata": {},
   "outputs": [],
   "source": [
    "# Asking the user to enter the number of tweets to search for "
   ]
  },
  {
   "cell_type": "code",
   "execution_count": 106,
   "metadata": {},
   "outputs": [
    {
     "name": "stdout",
     "output_type": "stream",
     "text": [
      "How many tweets you want?50\n"
     ]
    }
   ],
   "source": [
    "n_search_terms=int(input(\"How many tweets you want?\"))\n"
   ]
  },
  {
   "cell_type": "markdown",
   "metadata": {},
   "source": [
    "# searching in twitter for Brand 1"
   ]
  },
  {
   "cell_type": "code",
   "execution_count": 107,
   "metadata": {},
   "outputs": [],
   "source": [
    "tweets=tweepy.Cursor(api.search,q=search_term).items(n_search_terms)"
   ]
  },
  {
   "cell_type": "markdown",
   "metadata": {},
   "source": [
    "#converting tweets into a list then a Dataframe \n",
    "#saving the Dataframe in a csv file in form of brand_name.csv\n",
    "#then reading the DataFrame from the csv file "
   ]
  },
  {
   "cell_type": "code",
   "execution_count": 151,
   "metadata": {
    "scrolled": true
   },
   "outputs": [],
   "source": [
    "tweets_brand_1=tweets_to_list(tweets)"
   ]
  },
  {
   "cell_type": "code",
   "execution_count": 109,
   "metadata": {},
   "outputs": [],
   "source": [
    "brand1_df=pd.DataFrame(tweets_brand_1)\n",
    "name1=search_term+\".csv\"\n",
    "Brand1_csv=brand1_df.to_csv(name1)\n",
    "brand1=pd.read_csv(name1)\n"
   ]
  },
  {
   "cell_type": "code",
   "execution_count": null,
   "metadata": {},
   "outputs": [],
   "source": [
    "# initializing the needed variables "
   ]
  },
  {
   "cell_type": "code",
   "execution_count": 110,
   "metadata": {},
   "outputs": [],
   "source": [
    "positive=0\n",
    "negative=0\n",
    "neutral=0\n",
    "polarity=0\n",
    "#type(tweets)"
   ]
  },
  {
   "cell_type": "code",
   "execution_count": null,
   "metadata": {},
   "outputs": [],
   "source": [
    "#getting positive,negative,neutral,polarity values of Brand 1"
   ]
  },
  {
   "cell_type": "code",
   "execution_count": 111,
   "metadata": {},
   "outputs": [
    {
     "data": {
      "text/plain": [
       "46"
      ]
     },
     "execution_count": 111,
     "metadata": {},
     "output_type": "execute_result"
    }
   ],
   "source": [
    "positive,negative,neutral,polarity=polarity_meter_brands(brand1)\n",
    "neutral"
   ]
  },
  {
   "cell_type": "code",
   "execution_count": 112,
   "metadata": {},
   "outputs": [],
   "source": [
    "#positive,negative,neutral,polarity=polarity_meter(tweets)"
   ]
  },
  {
   "cell_type": "code",
   "execution_count": null,
   "metadata": {},
   "outputs": [],
   "source": [
    "#calculating the sum of positive+negative+neutral for Brand 1"
   ]
  },
  {
   "cell_type": "code",
   "execution_count": 113,
   "metadata": {},
   "outputs": [
    {
     "data": {
      "text/plain": [
       "50"
      ]
     },
     "execution_count": 113,
     "metadata": {},
     "output_type": "execute_result"
    }
   ],
   "source": [
    "total=positive+negative+neutral\n",
    "total"
   ]
  },
  {
   "cell_type": "code",
   "execution_count": null,
   "metadata": {},
   "outputs": [],
   "source": [
    "#getting the percentage of each polarity for Brand 1 "
   ]
  },
  {
   "cell_type": "code",
   "execution_count": 114,
   "metadata": {},
   "outputs": [],
   "source": [
    "positive=percentage(positive,total)\n",
    "negative=percentage(negative,total)\n",
    "neutral=percentage(neutral,total)"
   ]
  },
  {
   "cell_type": "markdown",
   "metadata": {},
   "source": [
    "# the application will wait for 17 minutes before searching for brand 2"
   ]
  },
  {
   "cell_type": "code",
   "execution_count": 116,
   "metadata": {},
   "outputs": [],
   "source": [
    "import time\n",
    "time.sleep(1020)"
   ]
  },
  {
   "cell_type": "code",
   "execution_count": 117,
   "metadata": {},
   "outputs": [],
   "source": [
    "tweets2=tweepy.Cursor(api.search,q=search_term2).items(n_search_terms)"
   ]
  },
  {
   "cell_type": "code",
   "execution_count": null,
   "metadata": {},
   "outputs": [],
   "source": [
    "#converting tweets into a list then a Dataframe\n"
   ]
  },
  {
   "cell_type": "code",
   "execution_count": 118,
   "metadata": {},
   "outputs": [],
   "source": [
    "tweets_brand_2=tweets_to_list(tweets2)"
   ]
  },
  {
   "cell_type": "code",
   "execution_count": 119,
   "metadata": {},
   "outputs": [],
   "source": [
    "brand2_df=pd.DataFrame(tweets_brand_2)"
   ]
  },
  {
   "cell_type": "code",
   "execution_count": null,
   "metadata": {},
   "outputs": [],
   "source": [
    "#saving the Dataframe in a csv file in form of brand_name.csv\n",
    "\n",
    "#then reading the DataFrame from the csv file"
   ]
  },
  {
   "cell_type": "code",
   "execution_count": 120,
   "metadata": {},
   "outputs": [],
   "source": [
    "name2=search_term2+\".csv\"\n",
    "Brand2_csv=brand2_df.to_csv(name2)\n",
    "Brand2 =pd.read_csv(name2)"
   ]
  },
  {
   "cell_type": "code",
   "execution_count": null,
   "metadata": {},
   "outputs": [],
   "source": [
    "# initializing the needed variables "
   ]
  },
  {
   "cell_type": "code",
   "execution_count": 121,
   "metadata": {},
   "outputs": [],
   "source": [
    "positive2=0\n",
    "negative2=0\n",
    "neutral2=0\n",
    "polarity2=0"
   ]
  },
  {
   "cell_type": "code",
   "execution_count": null,
   "metadata": {},
   "outputs": [],
   "source": [
    "#getting positive,negative,neutral,polarity values of Brand 2"
   ]
  },
  {
   "cell_type": "code",
   "execution_count": 122,
   "metadata": {},
   "outputs": [],
   "source": [
    "positive2,negative2,neutral2,polarity2=polarity_meter_brands(Brand2)"
   ]
  },
  {
   "cell_type": "code",
   "execution_count": null,
   "metadata": {},
   "outputs": [],
   "source": [
    "#calculating the sum of positive+negative+neutral for Brand 2"
   ]
  },
  {
   "cell_type": "code",
   "execution_count": 123,
   "metadata": {},
   "outputs": [],
   "source": [
    "total2=positive2+negative2+neutral2"
   ]
  },
  {
   "cell_type": "code",
   "execution_count": null,
   "metadata": {},
   "outputs": [],
   "source": [
    "#getting the percentage of each polarity for Brand 2"
   ]
  },
  {
   "cell_type": "code",
   "execution_count": 124,
   "metadata": {},
   "outputs": [
    {
     "data": {
      "text/plain": [
       "2.1545454545454543"
      ]
     },
     "execution_count": 124,
     "metadata": {},
     "output_type": "execute_result"
    }
   ],
   "source": [
    "positive2=percentage(positive2,total2)\n",
    "negative2=percentage(negative2,total2)\n",
    "neutral2=percentage(neutral2,total2)\n",
    "polarity2"
   ]
  },
  {
   "cell_type": "code",
   "execution_count": null,
   "metadata": {},
   "outputs": [],
   "source": [
    "# deciding the sentiment of all retrieved tweets of Brand 1 and Brand 2"
   ]
  },
  {
   "cell_type": "code",
   "execution_count": 143,
   "metadata": {},
   "outputs": [],
   "source": [
    "sentiment=sentiment_tweets(polarity)\n",
    "sentiment2=sentiment_tweets(polarity2)"
   ]
  },
  {
   "cell_type": "markdown",
   "metadata": {},
   "source": [
    "# offering a glimpse of how the people react to Brand 1 & Brand 2"
   ]
  },
  {
   "cell_type": "code",
   "execution_count": 144,
   "metadata": {},
   "outputs": [
    {
     "name": "stdout",
     "output_type": "stream",
     "text": [
      "Peolpe`s reaction to 'Mcdonalds' is 'Positive' according to the analysis of 50 tweets\n"
     ]
    }
   ],
   "source": [
    "print(\"Peolpe`s reaction to \"+\"'\"+search_term+\"'\"+\" is \"+\"'\"+sentiment+\"'\"+\" according to the analysis of \"+str(n_search_terms)+\" tweets\" )"
   ]
  },
  {
   "cell_type": "code",
   "execution_count": 145,
   "metadata": {},
   "outputs": [
    {
     "name": "stdout",
     "output_type": "stream",
     "text": [
      "Peolpe`s reaction to 'Burger King' is 'Positive' according to the analysis of 50 tweets\n"
     ]
    }
   ],
   "source": [
    "print(\"Peolpe`s reaction to \"+\"'\"+search_term2+\"'\"+\" is \"+\"'\"+sentiment2+\"'\"+\" according to the analysis of \"+str(n_search_terms)+\" tweets\" )"
   ]
  },
  {
   "cell_type": "code",
   "execution_count": null,
   "metadata": {},
   "outputs": [],
   "source": [
    "# a Pie chart represents the percentage of each polarity"
   ]
  },
  {
   "cell_type": "code",
   "execution_count": 255,
   "metadata": {},
   "outputs": [],
   "source": [
    "#Pie_chart(positive,negative,neutral,search_term)\n",
    "#plt.show()\n",
    "#Pie_chart(positive2,negative2,neutral2,search_term2)\n",
    "#plt.show()"
   ]
  },
  {
   "cell_type": "code",
   "execution_count": 270,
   "metadata": {},
   "outputs": [
    {
     "data": {
      "image/png": "[encoded data removed]",
      "text/plain": [
       "<Figure size 432x288 with 1 Axes>"
      ]
     },
     "metadata": {},
     "output_type": "display_data"
    },
    {
     "data": {
      "image/png": "[encoded data removed]",
      "text/plain": [
       "<Figure size 432x288 with 1 Axes>"
      ]
     },
     "metadata": {},
     "output_type": "display_data"
    }
   ],
   "source": [
    "Pie_chart2(positive,negative,neutral,search_term)\n",
    "#plt.show()\n",
    "Pie_chart2(positive2,negative2,neutral2,search_term2)\n",
    "#plt.show()"
   ]
  },
  {
   "cell_type": "code",
   "execution_count": null,
   "metadata": {},
   "outputs": [],
   "source": []
  }
 ],
 "metadata": {
  "kernelspec": {
   "display_name": "Python 3",
   "language": "python",
   "name": "python3"
  },
  "language_info": {
   "codemirror_mode": {
    "name": "ipython",
    "version": 3
   },
   "file_extension": ".py",
   "mimetype": "text/x-python",
   "name": "python",
   "nbconvert_exporter": "python",
   "pygments_lexer": "ipython3",
   "version": "3.7.1"
  }
 },
 "nbformat": 4,
 "nbformat_minor": 2
}
